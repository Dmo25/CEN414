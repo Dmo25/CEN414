{
 "cells": [
  {
   "cell_type": "code",
   "execution_count": 1,
   "id": "43102b97-d9c0-4d9b-a3c2-4069a4a6c1e8",
   "metadata": {},
   "outputs": [
    {
     "name": "stdout",
     "output_type": "stream",
     "text": [
      "Five is greater than two\n"
     ]
    }
   ],
   "source": [
    "if 5 > 2:\n",
    "    print(\"Five is greater than two\")"
   ]
  },
  {
   "cell_type": "code",
   "execution_count": 1,
   "id": "e2f6ab30-8416-42db-8e91-6eef26a29fc2",
   "metadata": {},
   "outputs": [
    {
     "name": "stdout",
     "output_type": "stream",
     "text": [
      "Five is greater than two\n"
     ]
    }
   ],
   "source": [
    "if 5 > 2:\n",
    "  print(\"Five is greater than two\")"
   ]
  },
  {
   "cell_type": "code",
   "execution_count": 3,
   "id": "8a3c3997-ba83-4f5e-81a1-500fbeec8102",
   "metadata": {},
   "outputs": [
    {
     "name": "stdout",
     "output_type": "stream",
     "text": [
      "It is lesser\n"
     ]
    }
   ],
   "source": [
    "if 5 > 6:\n",
    "    print(\"Five is greater than two\")\n",
    "else:\n",
    "        print(\"It is lesser\")"
   ]
  },
  {
   "cell_type": "code",
   "execution_count": 4,
   "id": "263aed97-cbc1-4451-8e0c-f29f3fd1cafc",
   "metadata": {},
   "outputs": [
    {
     "name": "stdout",
     "output_type": "stream",
     "text": [
      "this is not a comment\n"
     ]
    }
   ],
   "source": [
    "#this is a comment\n",
    "print(\"this is not a comment\")\n",
    "#print(\"don't print this\")"
   ]
  },
  {
   "cell_type": "code",
   "execution_count": 6,
   "id": "e4888447-a638-4720-a257-ae15960818d8",
   "metadata": {},
   "outputs": [
    {
     "name": "stdout",
     "output_type": "stream",
     "text": [
      "you just read a comment\n"
     ]
    }
   ],
   "source": [
    "\"\"\"\n",
    "this is a comment\n",
    "ignore this part of the code\n",
    "\"\"\"\n",
    "print(\"you just read a comment\")"
   ]
  },
  {
   "cell_type": "code",
   "execution_count": 8,
   "id": "470bb26d-ad00-4572-96a3-4f65f4c13e56",
   "metadata": {},
   "outputs": [
    {
     "name": "stdout",
     "output_type": "stream",
     "text": [
      "4\n"
     ]
    }
   ],
   "source": [
    "x=\"Sally\"\n",
    "x=4\n",
    "\n",
    "print(x)"
   ]
  },
  {
   "cell_type": "code",
   "execution_count": 9,
   "id": "ea52645d-d14d-4cf0-ba5f-668161f6783a",
   "metadata": {},
   "outputs": [
    {
     "name": "stdout",
     "output_type": "stream",
     "text": [
      "Orange\n",
      "Banana\n",
      "Apple\n"
     ]
    }
   ],
   "source": [
    "x,y,z=\"Orange\",\"Banana\",\"Apple\"\n",
    "print(x)\n",
    "print(y)\n",
    "print(z)"
   ]
  },
  {
   "cell_type": "code",
   "execution_count": 10,
   "id": "490e240b-1124-4db2-a6a6-b4e7fa81d56a",
   "metadata": {},
   "outputs": [
    {
     "name": "stdout",
     "output_type": "stream",
     "text": [
      "Apple\n",
      "Apple\n",
      "Apple\n"
     ]
    }
   ],
   "source": [
    "x=y=z=\"Apple\"\n",
    "print(x)\n",
    "print(y)\n",
    "print(z)"
   ]
  },
  {
   "cell_type": "code",
   "execution_count": 14,
   "id": "c9aa7d71-3c9d-4d6f-b622-11b71b6ff1ed",
   "metadata": {},
   "outputs": [
    {
     "name": "stdout",
     "output_type": "stream",
     "text": [
      "Dmo is ugly\n"
     ]
    }
   ],
   "source": [
    "x=\"ugly\"\n",
    "print(\"Dmo is \"+ x)"
   ]
  },
  {
   "cell_type": "code",
   "execution_count": 15,
   "id": "3cd9f1a5-4ee8-4583-972c-445e2f75f179",
   "metadata": {},
   "outputs": [
    {
     "name": "stdout",
     "output_type": "stream",
     "text": [
      "Python is boring\n"
     ]
    }
   ],
   "source": [
    "x=\"Python is \"\n",
    "y=\"boring\"\n",
    "z= x+y\n",
    "print(z)"
   ]
  },
  {
   "cell_type": "code",
   "execution_count": 19,
   "id": "9c62e1d1-57a5-429d-b0c1-a3aa772092fc",
   "metadata": {},
   "outputs": [
    {
     "name": "stdout",
     "output_type": "stream",
     "text": [
      "Python is awesome\n"
     ]
    }
   ],
   "source": [
    "x=\"awesome\"\n",
    "\n",
    "def myfunc():\n",
    "    print(\"Python is \"+x)\n",
    "    \n",
    "myfunc()"
   ]
  },
  {
   "cell_type": "code",
   "execution_count": 21,
   "id": "92ffc3c0-898f-4127-a11a-3b0dadc3b393",
   "metadata": {},
   "outputs": [
    {
     "name": "stdout",
     "output_type": "stream",
     "text": [
      "Python is fantastic\n",
      "Python is awesome\n"
     ]
    }
   ],
   "source": [
    "x=\"awesome\"\n",
    "\n",
    "def myfunc():\n",
    "    x=\"fantastic\"\n",
    "    print(\"Python is \"+x)\n",
    "myfunc()\n",
    "    \n",
    "print(\"Python is \"+x)"
   ]
  },
  {
   "cell_type": "code",
   "execution_count": 24,
   "id": "2498e24e-797d-48ac-af40-008742ec2dca",
   "metadata": {},
   "outputs": [
    {
     "name": "stdout",
     "output_type": "stream",
     "text": [
      "Python is fantastic\n"
     ]
    }
   ],
   "source": [
    "def myfunc():\n",
    "    global x\n",
    "    x=\"fantastic\"\n",
    "myfunc()\n",
    "print(\"Python is \"+x)"
   ]
  },
  {
   "cell_type": "code",
   "execution_count": 25,
   "id": "06707b58-67b2-48e1-97c1-5930b7322c27",
   "metadata": {},
   "outputs": [
    {
     "name": "stdout",
     "output_type": "stream",
     "text": [
      "<class 'int'>\n"
     ]
    }
   ],
   "source": [
    "x=5\n",
    "print(type(x))"
   ]
  },
  {
   "cell_type": "code",
   "execution_count": 26,
   "id": "980ac87c-1d7b-4639-82a2-e78f04764e2b",
   "metadata": {},
   "outputs": [
    {
     "name": "stdout",
     "output_type": "stream",
     "text": [
      "7\n"
     ]
    }
   ],
   "source": [
    "import random\n",
    "print(random.randrange(1,10))"
   ]
  },
  {
   "cell_type": "code",
   "execution_count": 28,
   "id": "209007ed-4dd6-4988-877d-182b5e2a9382",
   "metadata": {},
   "outputs": [
    {
     "name": "stdout",
     "output_type": "stream",
     "text": [
      "13\n",
      "hello, world!\n",
      "HELLO, WORLD!\n"
     ]
    }
   ],
   "source": [
    "a=\"Hello, World!\"\n",
    "print(len(a))\n",
    "print(a.lower())\n",
    "print(a.upper())"
   ]
  },
  {
   "cell_type": "code",
   "execution_count": 29,
   "id": "f12a2ab7-eabc-4b1f-aac3-2f9ac5c76f09",
   "metadata": {},
   "outputs": [
    {
     "name": "stdout",
     "output_type": "stream",
     "text": [
      "My age is 36\n"
     ]
    }
   ],
   "source": [
    "age=36\n",
    "txt=\"My age is {}\"\n",
    "print(txt.format(age))"
   ]
  },
  {
   "cell_type": "code",
   "execution_count": 30,
   "id": "a1992587-8511-4c3d-b5af-ffbfdf49a054",
   "metadata": {},
   "outputs": [
    {
     "name": "stdout",
     "output_type": "stream",
     "text": [
      "11\n"
     ]
    }
   ],
   "source": [
    "x = \"Hello World\"\n",
    "print(\n",
    "len(x)\n",
    ")"
   ]
  },
  {
   "cell_type": "code",
   "execution_count": 1,
   "id": "8258c5b8-93df-420e-9aff-7fbf17189107",
   "metadata": {},
   "outputs": [
    {
     "name": "stdout",
     "output_type": "stream",
     "text": [
      "['bee', 'cat', 'dog', 'dolphin', 'elephant', 'fish', 'zebra']\n",
      "['zebra', 'fish', 'elephant', 'dolphin', 'dog', 'cat', 'bee']\n"
     ]
    }
   ],
   "source": [
    "list = ['dog','cat', 'elephant', 'zebra', 'bee', 'fish', 'dolphin']\n",
    "for i in range(0,len(list)):\n",
    "    for j in range(0,len(list)):\n",
    "        if (list[j] > list[i]):\n",
    "            temp= list[i]\n",
    "            list[i]= list[j]\n",
    "            list[j]= temp\n",
    "    \n",
    "print(list)\n",
    "\n",
    "for i in range(0,len(list)):\n",
    "    for j in range(0,len(list)):\n",
    "        if (list[j] < list[i]):\n",
    "            temp= list[i]\n",
    "            list[i]= list[j]\n",
    "            list[j]= temp\n",
    "    \n",
    "print(list)"
   ]
  },
  {
   "cell_type": "code",
   "execution_count": 4,
   "id": "23f45d14-5c5f-4ef0-a9f3-fc46d0a843a8",
   "metadata": {},
   "outputs": [
    {
     "name": "stdout",
     "output_type": "stream",
     "text": [
      "['bee', 'cat', 'dog', 'dolphin', 'elephant', 'fish', 'zebra']\n"
     ]
    }
   ],
   "source": [
    "list = ['dog','cat', 'elephant', 'zebra', 'bee', 'fish', 'dolphin']\n",
    "\n",
    "list.sort()\n",
    "print(list)"
   ]
  },
  {
   "cell_type": "code",
   "execution_count": 6,
   "id": "698b9e17-6376-4349-8de4-713d5b650094",
   "metadata": {},
   "outputs": [
    {
     "name": "stdout",
     "output_type": "stream",
     "text": [
      "['zebra', 'fish', 'elephant', 'dolphin', 'dog', 'cat', 'bee']\n"
     ]
    }
   ],
   "source": [
    "list = ['dog','cat', 'elephant', 'zebra', 'bee', 'fish', 'dolphin']\n",
    "list.sort(reverse=True)\n",
    "print(list)"
   ]
  },
  {
   "cell_type": "code",
   "execution_count": 8,
   "id": "659fabed-9f07-44e5-bbb6-044bcabbc095",
   "metadata": {},
   "outputs": [
    {
     "name": "stdout",
     "output_type": "stream",
     "text": [
      "[9, 6, 5, 1, 0]\n"
     ]
    }
   ],
   "source": [
    "number=[1,5,6,9,0]\n",
    "for i in range(0,len(number)):\n",
    "  for j in range(i+1,len(number)):\n",
    "    if number[i]<number[j]:\n",
    "      number[i],number[j]=number[j],number[i]\n",
    "print(number)"
   ]
  },
  {
   "cell_type": "code",
   "execution_count": null,
   "id": "380673f0-c775-4257-bf5e-94413eb1559f",
   "metadata": {},
   "outputs": [],
   "source": []
  }
 ],
 "metadata": {
  "kernelspec": {
   "display_name": "Python 3 (ipykernel)",
   "language": "python",
   "name": "python3"
  },
  "language_info": {
   "codemirror_mode": {
    "name": "ipython",
    "version": 3
   },
   "file_extension": ".py",
   "mimetype": "text/x-python",
   "name": "python",
   "nbconvert_exporter": "python",
   "pygments_lexer": "ipython3",
   "version": "3.11.0"
  }
 },
 "nbformat": 4,
 "nbformat_minor": 5
}
